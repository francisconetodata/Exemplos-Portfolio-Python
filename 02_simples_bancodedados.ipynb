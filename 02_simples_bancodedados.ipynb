{
  "nbformat": 4,
  "nbformat_minor": 0,
  "metadata": {
    "colab": {
      "name": "02-simples-bancodedados.ipynb",
      "provenance": [],
      "authorship_tag": "ABX9TyPwCHo2/y+5ziXwyxhKQogH",
      "include_colab_link": true
    },
    "kernelspec": {
      "name": "python3",
      "display_name": "Python 3"
    },
    "language_info": {
      "name": "python"
    }
  },
  "cells": [
    {
      "cell_type": "markdown",
      "metadata": {
        "id": "view-in-github",
        "colab_type": "text"
      },
      "source": [
        "<a href=\"https://colab.research.google.com/github/francisconetodata/exemplos-jupyter-blog/blob/main/02_simples_bancodedados.ipynb\" target=\"_parent\"><img src=\"https://colab.research.google.com/assets/colab-badge.svg\" alt=\"Open In Colab\"/></a>"
      ]
    },
    {
      "cell_type": "markdown",
      "source": [
        "# Tutorial de como criar um banco de dados simples pelo Python\n",
        "\n",
        "(Usando o Google Colab)\n",
        "\n",
        "Francisco de Assis Pereira Neto - [Linkedin](https://www.linkedin.com/in/francisconetomaq/)\n"
      ],
      "metadata": {
        "id": "BVoU8EZBNdHv"
      }
    },
    {
      "cell_type": "markdown",
      "source": [
        "Idea deste tutorial: Criar um banco de dados sqlite3 usando apenas o Colab para inserir e consultar dados de vazão de um Rio fictício.\n"
      ],
      "metadata": {
        "id": "8ONCPc6GSxc7"
      }
    },
    {
      "cell_type": "markdown",
      "source": [
        "(Apenas um primeiro script simples e que nos próximos serão feitos exemplos mais elaborados)."
      ],
      "metadata": {
        "id": "SDf0YcpLdHjF"
      }
    },
    {
      "cell_type": "markdown",
      "source": [
        "O primeiro passo é importar o pacote e criar um banco de dados com os seguintes comandos:"
      ],
      "metadata": {
        "id": "_ZiOhQDBNhbl"
      }
    },
    {
      "cell_type": "code",
      "execution_count": 1,
      "metadata": {
        "id": "NmB2mzE9M5bL"
      },
      "outputs": [],
      "source": [
        "import sqlite3 # Pacote do banco de dados\n",
        "conn = sqlite3.connect('monitorar.db') # Criando o banco de dados.\n",
        "conn.close() # Fechando conexão com o banco de dados."
      ]
    },
    {
      "cell_type": "code",
      "source": [
        "# Gerador de números aleatórios para criar vazão fictícia:\n",
        "# Serão gerados números de uma série uniforme (com intervalos entre 3 e 7)\n",
        "# Round(x,2) arredonda o número para duas casas decimais.\n",
        "import random\n",
        "import time # Função apenas para colocar medições temporizadas.\n",
        "x = round(random.uniform(a=3,b=7),2)\n",
        "print(x)"
      ],
      "metadata": {
        "colab": {
          "base_uri": "https://localhost:8080/"
        },
        "id": "eEe_jMKFVLDq",
        "outputId": "ced55a96-a394-4fab-c7c3-4d463274a4a1"
      },
      "execution_count": 2,
      "outputs": [
        {
          "output_type": "stream",
          "name": "stdout",
          "text": [
            "4.8\n"
          ]
        }
      ]
    },
    {
      "cell_type": "code",
      "source": [
        "import sqlite3\n",
        "# Conectar com o banco de dados\n",
        "conn = sqlite3.connect('monitorar.db')\n",
        "# Definindo um cursos para executar as funções.\n",
        "cursor = conn.cursor()\n",
        "\n",
        "# Criando tabela vazao\n",
        "# Comentário em SQL (depois de --)\n",
        "cursor.execute(\"\"\"\n",
        "CREATE TABLE vazao (\n",
        "        ID INTEGER NOT NULL PRIMARY KEY AUTOINCREMENT,  -- ID do registro\n",
        "        NomeRio TEXT NOT NULL,                          -- Nome do rio monitorado\n",
        "        Criado TIMESTAMP NULL DEFAULT CURRENT_TIMESTAMP,-- Momento do registro (automático)\n",
        "        Cidade TEXT NOT NULL,                           -- Cidade do Rio \n",
        "        UF VARCHAR(2) NOT NULL,                         -- Estados do Rio \n",
        "        Vazao REAL NOT NULL                             -- Vazão do Rio\n",
        ");\n",
        "\"\"\")\n",
        "print('Comando executado com sucesso !!!')\n",
        "# desconectando...\n",
        "conn.close()"
      ],
      "metadata": {
        "colab": {
          "base_uri": "https://localhost:8080/"
        },
        "id": "bUhHBERBOLED",
        "outputId": "00327de3-e24e-4676-841f-f04fd48d1ab2"
      },
      "execution_count": 3,
      "outputs": [
        {
          "output_type": "stream",
          "name": "stdout",
          "text": [
            "Comando executado com sucesso !!!\n"
          ]
        }
      ]
    },
    {
      "cell_type": "code",
      "source": [
        "import sqlite3\n",
        "conn = sqlite3.connect('monitorar.db')\n",
        "cursor = conn.cursor()"
      ],
      "metadata": {
        "id": "Jz05r2scOnlb"
      },
      "execution_count": 4,
      "outputs": []
    },
    {
      "cell_type": "code",
      "source": [
        "# Existem diversas formas de inserir dados\n",
        "# Busquei fazer algo aleatório apenas para construir o Banco de dados.\n",
        "nome_rios = ['Salinas',\n",
        "             'São Francisco',\n",
        "             'Tietê',\n",
        "             'Lavras',\n",
        "             'Amazonas']\n",
        "uf_rios = ['MG',\n",
        "           'MG',\n",
        "           'SP',\n",
        "           'MG',\n",
        "           'AM']\n",
        "cidades_rios = ['Salinas',\n",
        "                'Janaúba',\n",
        "                'São Paulo',\n",
        "                'Lavras',\n",
        "                'Manaus']\n",
        "\n",
        "for i in range(1500):\n",
        "    time.sleep(0.1) # Tempo de espera de 1/10 de segundo.\n",
        "    for j in range(5):\n",
        "        x = round(random.uniform(a=3,b=7),2)\n",
        "        cursor.execute(f\"\"\"\n",
        "        INSERT INTO vazao (NomeRio, Cidade, UF, Vazao)\n",
        "        VALUES ('{nome_rios[j]}','{cidades_rios[j]}','{uf_rios[j]}','{x}')\n",
        "        \"\"\")\n",
        "        \n",
        "# Gravando no banco de dados:\n",
        "conn.commit()"
      ],
      "metadata": {
        "id": "VthrLgUbQ1-y"
      },
      "execution_count": 5,
      "outputs": []
    },
    {
      "cell_type": "code",
      "source": [
        "# Leitura dos dados (apenas os 5 primeiros do banco de dados):\n",
        "cursor.execute(\"\"\"\n",
        "SELECT * FROM vazao\n",
        "WHERE vazao.ID < 6;\n",
        "\"\"\")\n",
        "for linha in cursor.fetchall():\n",
        "    print(linha)"
      ],
      "metadata": {
        "colab": {
          "base_uri": "https://localhost:8080/"
        },
        "id": "57mqnoh9Op4o",
        "outputId": "1ec53dd5-cdd3-4d84-eb7a-fc14a6bd8e14"
      },
      "execution_count": 9,
      "outputs": [
        {
          "output_type": "stream",
          "name": "stdout",
          "text": [
            "(1, 'Salinas', '2022-03-07 03:39:26', 'Salinas', 'MG', 4.29)\n",
            "(2, 'São Francisco', '2022-03-07 03:39:26', 'Janaúba', 'MG', 4.68)\n",
            "(3, 'Tietê', '2022-03-07 03:39:26', 'São Paulo', 'SP', 6.85)\n",
            "(4, 'Lavras', '2022-03-07 03:39:26', 'Lavras', 'MG', 5.0)\n",
            "(5, 'Amazonas', '2022-03-07 03:39:26', 'Manaus', 'AM', 3.24)\n"
          ]
        }
      ]
    },
    {
      "cell_type": "code",
      "source": [
        "# Lendo dados específicos:\n",
        "# Pergunta: Qual a vazão média dos rios de MG ?\n",
        "cursor.execute(\"\"\"\n",
        "SELECT v.UF, AVG(v.Vazao) AS VazaoMedia FROM vazao v\n",
        "WHERE v.UF LIKE 'MG'\n",
        "GROUP BY v.UF;\n",
        "\"\"\")\n",
        "for linha in cursor.fetchall():\n",
        "    print(linha)"
      ],
      "metadata": {
        "colab": {
          "base_uri": "https://localhost:8080/"
        },
        "id": "VdiSqp08ZogD",
        "outputId": "95f6acd4-de3d-4e21-df1e-45048d992a62"
      },
      "execution_count": 10,
      "outputs": [
        {
          "output_type": "stream",
          "name": "stdout",
          "text": [
            "('MG', 4.990724444444432)\n"
          ]
        }
      ]
    },
    {
      "cell_type": "code",
      "source": [
        "# Pergunta: Qual a vazão média de todos os rios (por Estado) ?\n",
        "cursor.execute(\"\"\"\n",
        "SELECT v.UF, AVG(v.Vazao) AS VazaoMedia FROM vazao v\n",
        "GROUP BY v.UF;\n",
        "\"\"\")\n",
        "for linha in cursor.fetchall():\n",
        "    print(linha)"
      ],
      "metadata": {
        "colab": {
          "base_uri": "https://localhost:8080/"
        },
        "id": "Zx9_3qLjaqaX",
        "outputId": "4ba699da-c908-4d0e-908c-17fe5b306077"
      },
      "execution_count": 11,
      "outputs": [
        {
          "output_type": "stream",
          "name": "stdout",
          "text": [
            "('AM', 4.968513333333334)\n",
            "('MG', 4.990724444444432)\n",
            "('SP', 4.991046666666675)\n"
          ]
        }
      ]
    },
    {
      "cell_type": "code",
      "source": [
        "# Pergunta: Qual a maior e menor vazão por Rio ?\n",
        "cursor.execute(\"\"\"\n",
        "SELECT v.NomeRio, MAX(v.Vazao), MIN(v.Vazao) FROM vazao v\n",
        "GROUP BY v.NomeRio;\n",
        "\"\"\")\n",
        "for linha in cursor.fetchall():\n",
        "    print(linha)"
      ],
      "metadata": {
        "colab": {
          "base_uri": "https://localhost:8080/"
        },
        "id": "U2sIeVDKa3G3",
        "outputId": "06cebaa4-15b5-4f26-b839-4f3546ee3e73"
      },
      "execution_count": 12,
      "outputs": [
        {
          "output_type": "stream",
          "name": "stdout",
          "text": [
            "('Amazonas', 7.0, 3.0)\n",
            "('Lavras', 7.0, 3.0)\n",
            "('Salinas', 7.0, 3.0)\n",
            "('São Francisco', 7.0, 3.0)\n",
            "('Tietê', 6.99, 3.0)\n"
          ]
        }
      ]
    },
    {
      "cell_type": "code",
      "source": [
        "# Pergunta: Qual a vazão média de cada rio ?\n",
        "cursor.execute(\"\"\"\n",
        "SELECT v.NomeRio, AVG(v.Vazao) FROM vazao v\n",
        "GROUP BY v.NomeRio;\n",
        "\"\"\")\n",
        "for linha in cursor.fetchall():\n",
        "    print(linha)"
      ],
      "metadata": {
        "colab": {
          "base_uri": "https://localhost:8080/"
        },
        "id": "gRspeagabLCM",
        "outputId": "93e287ea-e65b-4e27-cb93-098c12b52bc7"
      },
      "execution_count": 13,
      "outputs": [
        {
          "output_type": "stream",
          "name": "stdout",
          "text": [
            "('Amazonas', 4.968513333333334)\n",
            "('Lavras', 5.015440000000002)\n",
            "('Salinas', 4.970966666666666)\n",
            "('São Francisco', 4.985766666666665)\n",
            "('Tietê', 4.991046666666675)\n"
          ]
        }
      ]
    },
    {
      "cell_type": "code",
      "source": [
        "# Pergunta: Quantas vezes cada rio passou a vazão maior ou igual a 6.5 ?\n",
        "cursor.execute(\"\"\"\n",
        "SELECT v.NomeRio, COUNT(DISTINCT(v.ID)) FROM vazao v\n",
        "WHERE v.Vazao >= 6.5\n",
        "GROUP BY v.NomeRio\n",
        ";\n",
        "\"\"\")\n",
        "for linha in cursor.fetchall():\n",
        "    print(linha)"
      ],
      "metadata": {
        "colab": {
          "base_uri": "https://localhost:8080/"
        },
        "id": "kcWq84F_bwGC",
        "outputId": "4a0d77d5-6c1c-42d9-846d-451101153305"
      },
      "execution_count": 14,
      "outputs": [
        {
          "output_type": "stream",
          "name": "stdout",
          "text": [
            "('Amazonas', 175)\n",
            "('Lavras', 206)\n",
            "('Salinas', 162)\n",
            "('São Francisco', 188)\n",
            "('Tietê', 189)\n"
          ]
        }
      ]
    }
  ]
}